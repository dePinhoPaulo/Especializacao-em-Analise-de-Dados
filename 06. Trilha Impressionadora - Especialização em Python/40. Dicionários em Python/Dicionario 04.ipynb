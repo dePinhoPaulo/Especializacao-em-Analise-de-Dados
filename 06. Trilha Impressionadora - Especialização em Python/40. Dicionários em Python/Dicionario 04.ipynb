{
 "cells": [
  {
   "cell_type": "markdown",
   "metadata": {},
   "source": [
    "# For nos Dicionarios\n",
    "\n",
    "### Estrutura:"
   ]
  },
  {
   "cell_type": "raw",
   "metadata": {},
   "source": [
    "for chave in dicionario:\n",
    "    faça alguma coisa"
   ]
  },
  {
   "cell_type": "code",
   "execution_count": 3,
   "metadata": {},
   "outputs": [
    {
     "name": "stdout",
     "output_type": "stream",
     "text": [
      "iphone teve 15000 vendas\n",
      "samsung galaxy teve 12000 vendas\n",
      "tv samsung teve 10000 vendas\n",
      "ps5 teve 14300 vendas\n",
      "tablet teve 1720 vendas\n",
      "ipad teve 1000 vendas\n",
      "tv philco teve 2500 vendas\n",
      "notebook hp teve 1000 vendas\n",
      "notebook dell teve 17000 vendas\n",
      "notebook asus teve 2450 vendas\n"
     ]
    }
   ],
   "source": [
    "vendas_tecnologia = {'iphone': 15000, 'samsung galaxy': 12000, 'tv samsung': 10000, 'ps5': 14300, 'tablet': 1720, 'ipad': 1000, 'tv philco': 2500, 'notebook hp': 1000, 'notebook dell': 17000, 'notebook asus': 2450}\n",
    "\n",
    "#demonstrando o for\n",
    "\n",
    "for chave in vendas_tecnologia:\n",
    "    print('{} teve {} vendas'.format(chave, vendas_tecnologia[chave]))"
   ]
  },
  {
   "cell_type": "markdown",
   "metadata": {},
   "source": [
    "- Qual o total de notebooks vendidos?"
   ]
  },
  {
   "cell_type": "code",
   "execution_count": 5,
   "metadata": {},
   "outputs": [
    {
     "name": "stdout",
     "output_type": "stream",
     "text": [
      "tiveram 20450 vendas de notebooks\n"
     ]
    }
   ],
   "source": [
    "venda_notebook = 0\n",
    "\n",
    "for chave in vendas_tecnologia:\n",
    "    if 'notebook' in chave:\n",
    "        venda_notebook += vendas_tecnologia[chave]\n",
    "print('tiveram {} vendas de notebooks'.format(venda_notebook))"
   ]
  }
 ],
 "metadata": {
  "kernelspec": {
   "display_name": "Python 3",
   "language": "python",
   "name": "python3"
  },
  "language_info": {
   "codemirror_mode": {
    "name": "ipython",
    "version": 3
   },
   "file_extension": ".py",
   "mimetype": "text/x-python",
   "name": "python",
   "nbconvert_exporter": "python",
   "pygments_lexer": "ipython3",
   "version": "3.12.1"
  }
 },
 "nbformat": 4,
 "nbformat_minor": 4
}
