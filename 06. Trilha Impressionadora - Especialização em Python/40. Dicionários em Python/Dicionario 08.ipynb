{
 "cells": [
  {
   "cell_type": "markdown",
   "metadata": {},
   "source": [
    "# Transformando Listas em Dicionários e Function zip\n",
    "\n",
    "### Estrutura:\n",
    "\n",
    "- Dicionário com valores padrões:\n",
    "\n",
    "dicionario = dict.fromkeys(lista_chaves, valor_padrao)\n",
    "\n",
    "- Dicionário a partir de listas de tuplas:\n",
    "\n",
    "dicionario = dict(lista_tuplas)\n",
    "\n",
    "- Dicionário a partir de 2 listas:\n",
    "\n",
    "Passo 1: Transformar listas em lista de tuplas com o método zip<br>\n",
    "Passo 2: Transformar em dicionario\n",
    "\n",
    "lista_tuplas = zip(lista1, lista2)<br>\n",
    "dicionario = dict(lista_tuplas)"
   ]
  },
  {
   "cell_type": "code",
   "execution_count": null,
   "metadata": {},
   "outputs": [
    {
     "name": "stdout",
     "output_type": "stream",
     "text": [
      "{'iphone': 0, 'samsung galaxy': 0, 'tv samsung': 0, 'ps5': 0, 'tablet': 0, 'ipad': 0, 'tv philco': 0, 'notebook hp': 0, 'notebook dell': 0, 'notebook asus': 0}\n",
      "('iphone', 15000)\n",
      "('samsung galaxy', 12000)\n",
      "('tv samsung', 10000)\n",
      "('ps5', 14300)\n",
      "('tablet', 1720)\n",
      "('ipad', 1000)\n",
      "('tv philco', 2500)\n",
      "('notebook hp', 1000)\n",
      "('notebook dell', 17000)\n",
      "('notebook asus', 2450)\n",
      "{'iphone': 15000, 'samsung galaxy': 12000, 'tv samsung': 10000, 'ps5': 14300, 'tablet': 1720, 'ipad': 1000, 'tv philco': 2500, 'notebook hp': 1000, 'notebook dell': 17000, 'notebook asus': 2450}\n"
     ]
    }
   ],
   "source": [
    "produtos = ['iphone', 'samsung galaxy', 'tv samsung', 'ps5', 'tablet', 'ipad', 'tv philco', 'notebook hp', 'notebook dell', 'notebook asus']\n",
    "vendas = [15000, 12000, 10000, 14300, 1720, 1000, 2500, 1000, 17000, 2450]\n",
    "\n",
    "prod = dict.fromkeys(produtos, 0)\n",
    "print(prod)\n",
    "\n",
    "produto_venda = zip(produtos, vendas)\n",
    "for produto in produto_venda:\n",
    "    print(produto)\n",
    "\n",
    "produto_venda_dict = dict(produto_venda)\n",
    "print(produto_venda_dict)"
   ]
  },
  {
   "cell_type": "markdown",
   "metadata": {},
   "source": [
    "- Quanto vendemos de ipad?"
   ]
  },
  {
   "cell_type": "code",
   "execution_count": 13,
   "metadata": {},
   "outputs": [
    {
     "name": "stdout",
     "output_type": "stream",
     "text": [
      "1000\n",
      "Vendas IPAD: 1000\n"
     ]
    }
   ],
   "source": [
    "#fazendo por listas\n",
    "indice = produtos.index('ipad')\n",
    "vendas_ipad = vendas[indice]\n",
    "print(vendas_ipad)\n",
    "\n",
    "#fazendo por dicionario\n",
    "print('Vendas IPAD: {}'.format(produto_venda_dict['ipad']))"
   ]
  }
 ],
 "metadata": {
  "kernelspec": {
   "display_name": "Python 3",
   "language": "python",
   "name": "python3"
  },
  "language_info": {
   "codemirror_mode": {
    "name": "ipython",
    "version": 3
   },
   "file_extension": ".py",
   "mimetype": "text/x-python",
   "name": "python",
   "nbconvert_exporter": "python",
   "pygments_lexer": "ipython3",
   "version": "3.12.1"
  }
 },
 "nbformat": 4,
 "nbformat_minor": 4
}
