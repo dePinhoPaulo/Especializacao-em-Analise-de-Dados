{
 "cells": [
  {
   "cell_type": "code",
   "execution_count": 3,
   "id": "ea9ec740",
   "metadata": {},
   "outputs": [
    {
     "name": "stdout",
     "output_type": "stream",
     "text": [
      "Batemos a meta!!\n"
     ]
    }
   ],
   "source": [
    "meta = 5000\n",
    "qtd_vendas = 5300\n",
    "\n",
    "if qtd_vendas > meta:\n",
    "    print('Batemos a meta!!')\n"
   ]
  },
  {
   "cell_type": "code",
   "execution_count": 5,
   "id": "e38c83f9",
   "metadata": {},
   "outputs": [
    {
     "name": "stdout",
     "output_type": "stream",
     "text": [
      "Não batemos a meta, precisamos melhorar!!\n"
     ]
    }
   ],
   "source": [
    "meta = 5000\n",
    "qtd_vendas = 300\n",
    "\n",
    "if qtd_vendas > meta:\n",
    "    print('Batemos a meta!!')\n",
    "\n",
    "else:\n",
    "    print('Não batemos a meta, precisamos melhorar!!')"
   ]
  },
  {
   "cell_type": "code",
   "execution_count": 11,
   "id": "851a71d1",
   "metadata": {},
   "outputs": [
    {
     "name": "stdout",
     "output_type": "stream",
     "text": [
      "A taxa foi de 0\n"
     ]
    }
   ],
   "source": [
    "meta = 0.05\n",
    "taxa = 0\n",
    "rendimento = 0.01\n",
    "\n",
    "if rendimento > meta:\n",
    "    if rendimento > 0.20:\n",
    "        taxa = 0.04\n",
    "        print('A taxa foi de {}'.format(taxa))\n",
    "    else:        \n",
    "        taxa = 0.02\n",
    "        print('A taxa foi de {}'.format(taxa))\n",
    "else:\n",
    "    taxa = 0\n",
    "    print('A taxa foi de {}'.format(taxa))"
   ]
  },
  {
   "cell_type": "code",
   "execution_count": 14,
   "id": "34de7c62",
   "metadata": {},
   "outputs": [
    {
     "name": "stdout",
     "output_type": "stream",
     "text": [
      "vendedor ganhou bonus de: 3500.0000000000005\n"
     ]
    }
   ],
   "source": [
    "metas = 3000\n",
    "vendas = 50000\n",
    "\n",
    "if vendas < metas:\n",
    "    print('não ganhou bonus')\n",
    "elif vendas > (metas*2):\n",
    "    bonus = 0.07 * vendas\n",
    "    print(f'vendedor ganhou bonus de: {bonus}')\n",
    "else:\n",
    "    bonus = 0.03 * vendas\n",
    "    print(f'vendedor ganhou bonus de: {bonus}')"
   ]
  },
  {
   "cell_type": "code",
   "execution_count": 15,
   "id": "0a8494f3",
   "metadata": {},
   "outputs": [
    {
     "name": "stdout",
     "output_type": "stream",
     "text": [
      "Programa 1\n",
      "Os faturamentos são diferentes\n"
     ]
    }
   ],
   "source": [
    "faturamento_loja_1 = 2500\n",
    "faturamento_loja_2 = 2200\n",
    "email = \"liragmail.com\"\n",
    "\n",
    "print('Programa 1')\n",
    "if faturamento_loja_1 == faturamento_loja_2:\n",
    "    print('Os faturamentos são iguais')\n",
    "else:\n",
    "    print('Os faturamentos são diferentes')"
   ]
  },
  {
   "cell_type": "code",
   "execution_count": 26,
   "id": "78d61c05",
   "metadata": {},
   "outputs": [
    {
     "name": "stdout",
     "output_type": "stream",
     "text": [
      "Funcionário não ganhou bônus\n"
     ]
    }
   ],
   "source": [
    "meta_funcionario = 10000\n",
    "meta_loja = 250000\n",
    "vendas_funcionario = 15000\n",
    "vendas_loja = 0\n",
    "\n",
    "nota_funcionario = 5\n",
    "meta_nota = 9\n",
    "\n",
    "if nota_funcionario >= meta_nota or (vendas_funcionario > meta_funcionario and vendas_loja > meta_loja):\n",
    "    bonus = 0.03 * vendas_funcionario\n",
    "    print('Bonus do funcionario foi de {}'.format(bonus))\n",
    "else:\n",
    "    print('Funcionário não ganhou bônus')"
   ]
  }
 ],
 "metadata": {
  "kernelspec": {
   "display_name": "Python 3",
   "language": "python",
   "name": "python3"
  },
  "language_info": {
   "codemirror_mode": {
    "name": "ipython",
    "version": 3
   },
   "file_extension": ".py",
   "mimetype": "text/x-python",
   "name": "python",
   "nbconvert_exporter": "python",
   "pygments_lexer": "ipython3",
   "version": "3.12.1"
  }
 },
 "nbformat": 4,
 "nbformat_minor": 5
}
