{
 "cells": [
  {
   "cell_type": "code",
   "execution_count": 3,
   "id": "c7bbce75",
   "metadata": {},
   "outputs": [
    {
     "name": "stdout",
     "output_type": "stream",
     "text": [
      "o faturmaento foi: 1000\n"
     ]
    }
   ],
   "source": [
    "faturamento = 1000\n",
    "type(faturamento)\n",
    "print('o faturmaento foi: ' + str(faturamento))"
   ]
  },
  {
   "cell_type": "code",
   "execution_count": null,
   "id": "57586a98",
   "metadata": {},
   "outputs": [
    {
     "name": "stdout",
     "output_type": "stream",
     "text": [
      "o faturmaento foi: 1000 O custo foi: 500\n"
     ]
    }
   ],
   "source": [
    "#format\n",
    "faturamento = 1000\n",
    "custo = 500\n",
    "print('o faturmaento foi: {} O custo foi: {}'.format(faturamento, custo))"
   ]
  },
  {
   "cell_type": "code",
   "execution_count": null,
   "id": "d0ce4ee4",
   "metadata": {},
   "outputs": [],
   "source": [
    "#f-string\n",
    "faturamento = 1000\n",
    "custo = 500\n",
    "print(f'o faturmaento foi: {faturamento} O custo foi: {custo}')\n"
   ]
  },
  {
   "cell_type": "code",
   "execution_count": 8,
   "id": "af57d0e1",
   "metadata": {},
   "outputs": [
    {
     "name": "stdout",
     "output_type": "stream",
     "text": [
      "435.79999999999995\n"
     ]
    }
   ],
   "source": [
    "#mudança de tipo de variavel\n",
    "faturamento = float(input(\"Valor faturado: \"))\n",
    "custo = float(input(\"Valor de custo: \"))\n",
    "lucro  = faturamento - custo\n",
    "\n",
    "print(lucro)"
   ]
  }
 ],
 "metadata": {
  "kernelspec": {
   "display_name": "Python 3",
   "language": "python",
   "name": "python3"
  },
  "language_info": {
   "codemirror_mode": {
    "name": "ipython",
    "version": 3
   },
   "file_extension": ".py",
   "mimetype": "text/x-python",
   "name": "python",
   "nbconvert_exporter": "python",
   "pygments_lexer": "ipython3",
   "version": "3.12.1"
  }
 },
 "nbformat": 4,
 "nbformat_minor": 5
}
