{
 "cells": [
  {
   "cell_type": "markdown",
   "metadata": {},
   "source": [
    "# Listas em Python\n",
    "\n",
    "## Estrutura:\n",
    "\n",
    "lista = [valor, valor, valor, valor, ...]\n",
    "\n",
    "- Lista é um dos objetos mais importantes de Python, por isso vamos trabalhar bastante neles\n",
    "- Quando importamos uma base de dados para o Python, normalmente ele é lido como uma \"lista\" ou como alguma \"variação de lista\"\n",
    "- Listas em Python foram feitas para serem homogêneas, apesar de aceitarem valores heterogêneos\n",
    "- Exemplos de Lista:\n",
    "\n",
    "Listas de Produtos de uma Loja:"
   ]
  },
  {
   "cell_type": "code",
   "execution_count": 9,
   "metadata": {},
   "outputs": [
    {
     "name": "stdout",
     "output_type": "stream",
     "text": [
      "tv\n",
      "1\n",
      "Seu produto esta no indice 3\n"
     ]
    }
   ],
   "source": [
    "produtos = ['tv', 'celular', 'mouse', 'teclado', 'tablet']\n",
    "\n",
    "print(produtos[0])\n",
    "print(produtos.index('celular'))\n",
    "\n",
    "produto = input('Insira um produto: ')\n",
    "i = produtos.index(produto)\n",
    "if produto in produtos:\n",
    "    print('Seu produto esta no indice {}'.format(i))\n",
    "else:\n",
    "    print('Produto Não encontrado')\n"
   ]
  },
  {
   "cell_type": "code",
   "execution_count": 33,
   "metadata": {},
   "outputs": [
    {
     "name": "stdout",
     "output_type": "stream",
     "text": [
      "['tv', 'celular', 'mouse', 'teclado', 'tablet', 'Iphone X']\n",
      "['tv', 'celular', 'mouse', 'teclado', 'tablet', 'Iphone X']\n"
     ]
    }
   ],
   "source": [
    "produtos.append('Iphone')\n",
    "\n",
    "\n",
    "try:\n",
    "    produtos.remove('Iphone')\n",
    "    print(produtos)\n",
    "except:\n",
    "    print('Produto não encontrado')\n",
    "\n",
    "print(produtos)"
   ]
  },
  {
   "cell_type": "markdown",
   "metadata": {},
   "source": [
    "Lista de Unidades Vendidas de cada Produto da Loja"
   ]
  },
  {
   "cell_type": "code",
   "execution_count": 39,
   "metadata": {},
   "outputs": [
    {
     "name": "stdout",
     "output_type": "stream",
     "text": [
      "Qtd produtos 5, Maior venda 1500, Menor venda 270 \n",
      "2500\n"
     ]
    }
   ],
   "source": [
    "vendas = [1000, 1500, 350, 270, 900]\n",
    "\n",
    "tamanho = len(vendas)\n",
    "maior = max(vendas)\n",
    "menor = min(vendas)\n",
    "\n",
    "print('Qtd produtos {}, Maior venda {}, Menor venda {} '.format(tamanho, maior, menor))\n",
    "\n",
    "soma_indice = vendas[0] + vendas[1]\n",
    "print(soma_indice)"
   ]
  },
  {
   "cell_type": "code",
   "execution_count": 54,
   "metadata": {},
   "outputs": [
    {
     "name": "stdout",
     "output_type": "stream",
     "text": [
      "['tv', 'teclado', 'tablet', 'sabonete', 'pente', 'pasta', 'mouse', 'escova', 'celular']\n",
      "tv\n",
      "teclado\n",
      "tablet\n",
      "sabonete\n",
      "pente\n",
      "pasta\n",
      "mouse\n",
      "escova\n",
      "celular\n",
      "['sabonete', 'pasta', 'escova', 'pente']\n"
     ]
    }
   ],
   "source": [
    "produtos1 = ['tv', 'celular', 'mouse', 'teclado', 'tablet']\n",
    "produtos2 = ['sabonete', 'pasta', 'escova', 'pente']\n",
    "\n",
    "#produtos1.extend(produtos2)\n",
    "#print(produtos1)\n",
    "\n",
    "todos_produtos = produtos1 + produtos2\n",
    "#print(todos_produtos)\n",
    "\n",
    "todos_produtos.sort(reverse=True)\n",
    "print(todos_produtos)\n",
    "\n",
    "print('\\n'.join(todos_produtos))\n",
    "\n",
    "produtos_string = 'sabonete, pasta, escova, pente'\n",
    "produtos3 = produtos_string.split(', ')\n",
    "\n",
    "print(produtos3)\n"
   ]
  },
  {
   "cell_type": "code",
   "execution_count": 3,
   "metadata": {},
   "outputs": [
    {
     "name": "stdout",
     "output_type": "stream",
     "text": [
      "1000\n"
     ]
    }
   ],
   "source": [
    "soma_vendas = 300\n",
    "soma_vendas = soma_vendas + 200\n",
    "\n",
    "soma_vendas += 500\n",
    "\n",
    "print(soma_vendas)\n",
    "\n"
   ]
  }
 ],
 "metadata": {
  "kernelspec": {
   "display_name": "Python 3",
   "language": "python",
   "name": "python3"
  },
  "language_info": {
   "codemirror_mode": {
    "name": "ipython",
    "version": 3
   },
   "file_extension": ".py",
   "mimetype": "text/x-python",
   "name": "python",
   "nbconvert_exporter": "python",
   "pygments_lexer": "ipython3",
   "version": "3.12.1"
  }
 },
 "nbformat": 4,
 "nbformat_minor": 4
}
