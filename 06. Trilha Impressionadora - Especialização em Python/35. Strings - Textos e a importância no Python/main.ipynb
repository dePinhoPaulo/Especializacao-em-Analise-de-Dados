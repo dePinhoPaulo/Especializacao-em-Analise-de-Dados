{
 "cells": [
  {
   "cell_type": "code",
   "execution_count": 2,
   "id": "d836e87c",
   "metadata": {},
   "outputs": [
    {
     "name": "stdout",
     "output_type": "stream",
     "text": [
      "6\n",
      "@\n"
     ]
    }
   ],
   "source": [
    "email = 'kiko@gmail.com'\n",
    "nome = 'Paulin'\n",
    "\n",
    "print(len(nome))\n",
    "print(email[4])"
   ]
  },
  {
   "cell_type": "code",
   "execution_count": 12,
   "id": "0659dd70",
   "metadata": {},
   "outputs": [
    {
     "name": "stdout",
     "output_type": "stream",
     "text": [
      "n\n",
      "kiko@\n",
      "@gmail.com\n",
      "Tamanho do email 14 Caracters\n"
     ]
    }
   ],
   "source": [
    "print(nome[-1])\n",
    "print(email[:5])\n",
    "print(email[4:])\n",
    "\n",
    "#Ex\n",
    "print('Tamanho do email '+str(len(email))+' Caracters')"
   ]
  },
  {
   "cell_type": "code",
   "execution_count": 14,
   "id": "bd520d7e",
   "metadata": {},
   "outputs": [
    {
     "name": "stdout",
     "output_type": "stream",
     "text": [
      "Faturamento foi de 1000 custo de 500 com lucro 500\n",
      "True\n"
     ]
    }
   ],
   "source": [
    "faturamento = 1000\n",
    "custo = 500\n",
    "lucro = 500\n",
    "\n",
    "print('Faturamento foi de {} custo de {} com lucro {}'.format(faturamento, custo, lucro))\n",
    "print('@' in email)\n"
   ]
  }
 ],
 "metadata": {
  "kernelspec": {
   "display_name": "Python 3",
   "language": "python",
   "name": "python3"
  },
  "language_info": {
   "codemirror_mode": {
    "name": "ipython",
    "version": 3
   },
   "file_extension": ".py",
   "mimetype": "text/x-python",
   "name": "python",
   "nbconvert_exporter": "python",
   "pygments_lexer": "ipython3",
   "version": "3.12.1"
  }
 },
 "nbformat": 4,
 "nbformat_minor": 5
}
