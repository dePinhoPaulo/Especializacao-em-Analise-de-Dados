{
 "cells": [
  {
   "cell_type": "markdown",
   "metadata": {},
   "source": [
    "# Argumentos/Parâmetros da Função\n",
    "\n",
    "### Estrutura:"
   ]
  },
  {
   "cell_type": "raw",
   "metadata": {},
   "source": [
    "def minha_funcao(parametro1, parametro2, parametro3):\n",
    "    return parametro1 + parametro2 + parametro3"
   ]
  },
  {
   "cell_type": "markdown",
   "metadata": {},
   "source": [
    "- Exemplo: nosso famoso print"
   ]
  },
  {
   "cell_type": "code",
   "execution_count": 7,
   "metadata": {},
   "outputs": [
    {
     "name": "stdout",
     "output_type": "stream",
     "text": [
      "Produto Iphone Vendas 50\n"
     ]
    }
   ],
   "source": [
    "vendas = 50\n",
    "print('Produto', 'Iphone', 'Vendas', vendas)"
   ]
  },
  {
   "cell_type": "markdown",
   "metadata": {},
   "source": [
    "- Só para mostrar o funcionamento, vamos criar uma função de soma"
   ]
  },
  {
   "cell_type": "code",
   "execution_count": 8,
   "metadata": {},
   "outputs": [
    {
     "name": "stdout",
     "output_type": "stream",
     "text": [
      "70\n"
     ]
    }
   ],
   "source": [
    "def minha_soma(num1, num2, num3):\n",
    "    return num1 + num2 + num3\n",
    "\n",
    "\n",
    "soma = minha_soma(50, 20, 0)\n",
    "print(soma)"
   ]
  },
  {
   "cell_type": "markdown",
   "metadata": {},
   "source": [
    "- Vamos criar uma function com parâmetro\n",
    "\n",
    "Digamos que estamos criando um programa para categorizar os produtos de uma revendedora de bebidas.\n",
    "\n",
    "Cada produto tem um código. O tipo de produto é dado pelas 3 primeiras letras do código.\n",
    "\n",
    "Ex:<br>\n",
    "Vinho -> BEB12302<br>\n",
    "Cerveja -> BEB12043<br>\n",
    "Vodka -> BEB34501<br>\n",
    "\n",
    "Guaraná -> BSA11104<br>\n",
    "Coca -> BSA54301<br>\n",
    "Sprite -> BSA34012<br>\n",
    "Água -> BSA09871<br>\n",
    "\n",
    "Repare que bebidas não alcóolicas começam com BSA e bebidas alcoolicas começam com BEB.\n",
    "\n",
    "Crie um programa que analise uma lista de produtos e envie instruções para a equipe de estoque dizendo quais produtos devem ser enviados para a área de bebidas alcóolicas."
   ]
  },
  {
   "cell_type": "code",
   "execution_count": 9,
   "metadata": {},
   "outputs": [
    {
     "name": "stdout",
     "output_type": "stream",
     "text": [
      "ENVIAR produto BEB46275 ao setor de bebidas alcolicas\n",
      "ENVIAR produto BEB21365 ao setor de bebidas alcolicas\n",
      "ENVIAR produto BEB31623 ao setor de bebidas alcolicas\n",
      "ENVIAR produto BEB73344 ao setor de bebidas alcolicas\n",
      "ENVIAR produto BEB80694 ao setor de bebidas alcolicas\n",
      "ENVIAR produto BEB19495 ao setor de bebidas alcolicas\n",
      "ENVIAR produto BEB97471 ao setor de bebidas alcolicas\n",
      "ENVIAR produto BEB62362 ao setor de bebidas alcolicas\n",
      "ENVIAR produto BEB85146 ao setor de bebidas alcolicas\n",
      "ENVIAR produto BEB48898 ao setor de bebidas alcolicas\n",
      "ENVIAR produto BEB79496 ao setor de bebidas alcolicas\n",
      "ENVIAR produto BEB15385 ao setor de bebidas alcolicas\n",
      "ENVIAR produto BEB24213 ao setor de bebidas alcolicas\n",
      "ENVIAR produto BEB56262 ao setor de bebidas alcolicas\n",
      "ENVIAR produto BEB75073 ao setor de bebidas alcolicas\n"
     ]
    }
   ],
   "source": [
    "def ehalcolica(bebida):\n",
    "    bebida = bebida.upper()\n",
    "    if 'BEB' in bebida:\n",
    "        return True\n",
    "    else:\n",
    "        return False\n",
    "\n",
    "produtos = ['beb46275','TFA23962','TFA64715','TFA69555','TFA56743','BSA45510','TFA44968','CAR75448','CAR23596','CAR13490','BEB21365','BEB31623','BSA62419','BEB73344','TFA20079','BEB80694','BSA11769','BEB19495','TFA14792','TFA78043','BSA33484','BEB97471','BEB62362','TFA27311','TFA17715','BEB85146','BEB48898','BEB79496','CAR38417','TFA19947','TFA58799','CAR94811','BSA59251','BEB15385','BEB24213','BEB56262','BSA96915','CAR53454','BEB75073']\n",
    "\n",
    "\n",
    "for produto in produtos:\n",
    "    if ehalcolica(produto):\n",
    "        produto = produto.upper()\n",
    "        print('ENVIAR produto {} ao setor de bebidas alcolicas'.format(produto))"
   ]
  },
  {
   "cell_type": "code",
   "execution_count": 13,
   "metadata": {},
   "outputs": [
    {
     "name": "stdout",
     "output_type": "stream",
     "text": [
      "ENVIAR produto BSA45510 ao setor de Refrigerante\n",
      "ENVIAR produto BSA62419 ao setor de Refrigerante\n",
      "ENVIAR produto BSA11769 ao setor de Refrigerante\n",
      "ENVIAR produto BSA33484 ao setor de Refrigerante\n",
      "ENVIAR produto BSA59251 ao setor de Refrigerante\n",
      "ENVIAR produto BSA96915 ao setor de Refrigerante\n"
     ]
    }
   ],
   "source": [
    "def ehdacategoria(bebida, categoria):\n",
    "    bebida = bebida.upper()\n",
    "    if categoria in bebida:\n",
    "        return True\n",
    "    else:\n",
    "        return False\n",
    "\n",
    "produtos = ['beb46275','TFA23962','TFA64715','TFA69555','TFA56743','BSA45510','TFA44968','CAR75448','CAR23596','CAR13490','BEB21365','BEB31623','BSA62419','BEB73344','TFA20079','BEB80694','BSA11769','BEB19495','TFA14792','TFA78043','BSA33484','BEB97471','BEB62362','TFA27311','TFA17715','BEB85146','BEB48898','BEB79496','CAR38417','TFA19947','TFA58799','CAR94811','BSA59251','BEB15385','BEB24213','BEB56262','BSA96915','CAR53454','BEB75073']\n",
    "\n",
    "\n",
    "for produto in produtos:\n",
    "    if ehdacategoria(categoria='BSA', bebida=produto):\n",
    "    #if ehdacategoria(produto, 'BSA'):\n",
    "        produto = produto.upper()\n",
    "        print('ENVIAR produto {} ao setor de Refrigerante'.format(produto))"
   ]
  }
 ],
 "metadata": {
  "kernelspec": {
   "display_name": "Python 3",
   "language": "python",
   "name": "python3"
  },
  "language_info": {
   "codemirror_mode": {
    "name": "ipython",
    "version": 3
   },
   "file_extension": ".py",
   "mimetype": "text/x-python",
   "name": "python",
   "nbconvert_exporter": "python",
   "pygments_lexer": "ipython3",
   "version": "3.12.1"
  }
 },
 "nbformat": 4,
 "nbformat_minor": 4
}
