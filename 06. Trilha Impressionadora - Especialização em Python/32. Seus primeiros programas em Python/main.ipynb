{
 "cells": [
  {
   "cell_type": "markdown",
   "id": "b07f4530",
   "metadata": {},
   "source": [
    "Meu primeiro Codigo"
   ]
  },
  {
   "cell_type": "code",
   "execution_count": 2,
   "id": "a64c6486",
   "metadata": {},
   "outputs": [
    {
     "name": "stdout",
     "output_type": "stream",
     "text": [
      "qualquer coisa\n"
     ]
    }
   ],
   "source": [
    "print(\"qualquer coisa\")"
   ]
  },
  {
   "cell_type": "code",
   "execution_count": 5,
   "id": "c40a0042",
   "metadata": {},
   "outputs": [
    {
     "name": "stdout",
     "output_type": "stream",
     "text": [
      "0.6666666666666666\n"
     ]
    }
   ],
   "source": [
    "print(2/3)"
   ]
  },
  {
   "cell_type": "code",
   "execution_count": 9,
   "id": "e5893ca7",
   "metadata": {},
   "outputs": [
    {
     "name": "stdout",
     "output_type": "stream",
     "text": [
      "False\n"
     ]
    }
   ],
   "source": [
    "print(\"Meu nome é\" in \" Paulo\")"
   ]
  },
  {
   "cell_type": "code",
   "execution_count": 10,
   "id": "98f07332",
   "metadata": {},
   "outputs": [
    {
     "name": "stdout",
     "output_type": "stream",
     "text": [
      "1500\n"
     ]
    }
   ],
   "source": [
    "qtd_vendas = 1500\n",
    "\n",
    "print(qtd_vendas)"
   ]
  },
  {
   "cell_type": "code",
   "execution_count": 13,
   "id": "64350e72",
   "metadata": {},
   "outputs": [
    {
     "name": "stdout",
     "output_type": "stream",
     "text": [
      "Seu nome: PaulimPinho\n"
     ]
    }
   ],
   "source": [
    "nome = input('Qual seu nome?')\n",
    "\n",
    "print('Seu nome: '+nome)"
   ]
  },
  {
   "cell_type": "code",
   "execution_count": 15,
   "id": "75551d49",
   "metadata": {},
   "outputs": [
    {
     "name": "stdout",
     "output_type": "stream",
     "text": [
      "195.0\n",
      "225.0\n",
      "-2080.0\n",
      "-4.9523809523809526\n"
     ]
    }
   ],
   "source": [
    "#Exercicio_1\n",
    "\n",
    "qtd_coca = 150\n",
    "qtd_pepsi = 130\n",
    "preco_coca = 1.5\n",
    "preco_pepsi = 1.5\n",
    "custo_loja = 2500\n",
    "\n",
    "faturamento_coca = qtd_coca * preco_coca\n",
    "faturamento_pepsi = qtd_pepsi * preco_pepsi\n",
    "lucro_loja = faturamento_coca + faturamento_pepsi - custo_loja\n",
    "\n",
    "print( qtd_pepsi * preco_pepsi)\n",
    "print( qtd_coca * preco_coca)\n",
    "print( lucro_loja)\n",
    "print((lucro_loja / (faturamento_coca + faturamento_pepsi)))\n",
    "\n"
   ]
  }
 ],
 "metadata": {
  "kernelspec": {
   "display_name": "Python 3",
   "language": "python",
   "name": "python3"
  },
  "language_info": {
   "codemirror_mode": {
    "name": "ipython",
    "version": 3
   },
   "file_extension": ".py",
   "mimetype": "text/x-python",
   "name": "python",
   "nbconvert_exporter": "python",
   "pygments_lexer": "ipython3",
   "version": "3.12.1"
  }
 },
 "nbformat": 4,
 "nbformat_minor": 5
}
