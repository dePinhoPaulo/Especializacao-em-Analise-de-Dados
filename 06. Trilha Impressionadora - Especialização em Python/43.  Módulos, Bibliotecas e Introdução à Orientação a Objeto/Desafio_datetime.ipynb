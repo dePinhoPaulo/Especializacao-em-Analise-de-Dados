{
 "cells": [
  {
   "cell_type": "markdown",
   "metadata": {},
   "source": [
    "## Calculando a idade\n",
    "\n",
    "Um usuário fornece sua data de nascimento no formato \"dd/mm/aaaa\". Crie um script Python que calcula a idade do usuário.\n"
   ]
  },
  {
   "cell_type": "code",
   "execution_count": null,
   "metadata": {},
   "outputs": [
    {
     "name": "stdout",
     "output_type": "stream",
     "text": [
      "Idade do Usuario 23 anos\n"
     ]
    }
   ],
   "source": [
    "from datetime import datetime\n",
    "\n",
    "data = input('Digite sua data de nascimento (dd/mm/yyyy): ')\n",
    "formato = \"%d/%m/%Y\"\n",
    "data_nascimento = datetime.strptime(data, formato)\n",
    "agora = datetime.now()\n",
    "\n",
    "idade = agora.year - data_nascimento.year\n",
    "\n",
    "mes_atual = agora.month\n",
    "dia_atual = agora.day\n",
    "mes_nascimento = data_nascimento.month\n",
    "dia_nascimento = data_nascimento.day\n",
    "\n",
    "if mes_atual < mes_nascimento:\n",
    "    idade -= 1\n",
    "elif mes_nascimento == mes_atual and dia_atual < dia_nascimento:\n",
    "    idade -= 1\n",
    "\n",
    "print(f'Idade do Usuario: {idade} anos')\n"
   ]
  }
 ],
 "metadata": {
  "kernelspec": {
   "display_name": "Python 3",
   "language": "python",
   "name": "python3"
  },
  "language_info": {
   "codemirror_mode": {
    "name": "ipython",
    "version": 3
   },
   "file_extension": ".py",
   "mimetype": "text/x-python",
   "name": "python",
   "nbconvert_exporter": "python",
   "pygments_lexer": "ipython3",
   "version": "3.12.1"
  }
 },
 "nbformat": 4,
 "nbformat_minor": 4
}
