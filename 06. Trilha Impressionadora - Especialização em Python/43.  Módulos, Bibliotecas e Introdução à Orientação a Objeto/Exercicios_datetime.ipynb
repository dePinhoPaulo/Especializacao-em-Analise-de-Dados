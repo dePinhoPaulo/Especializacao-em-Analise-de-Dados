{
 "cells": [
  {
   "cell_type": "markdown",
   "metadata": {},
   "source": [
    "## Oferecendo desconto para cliente com base na última compra\n",
    "\n",
    "Suponha que você está trabalhando para uma empresa que deseja rastrear a atividade do cliente. Uma métrica que eles estão interessados é o tempo que passou desde a última transação do cliente. Se for muito tempo, eles podem oferecer um desconto para o cliente. Crie um script Python que mostra quanto tempo se passou desde a última compra do cliente. Se faz mais de 30 dias, mostre uma mensagem oferecendo um desconto para o cliente."
   ]
  },
  {
   "cell_type": "code",
   "execution_count": 7,
   "metadata": {},
   "outputs": [
    {
     "name": "stdout",
     "output_type": "stream",
     "text": [
      "244\n",
      "Cliente ganhou em desconte de 20%\n"
     ]
    }
   ],
   "source": [
    "from datetime import datetime\n",
    "\n",
    "data = input('Digite a ultima transação do cliente (dd/mm/yyyy): ')\n",
    "formato = \"%d/%m/%Y\"\n",
    "ultima_transacao = datetime.strptime(data, formato)\n",
    "agora = datetime.now()\n",
    "\n",
    "quant_dias = agora - ultima_transacao\n",
    "\n",
    "if quant_dias.days > 30:\n",
    "    print(quant_dias.days)\n",
    "    print('Cliente ganhou em desconte de 20%')\n",
    "else:\n",
    "    print('dias desde a ultima transação do clinete {}'.format(quant_dias.days))"
   ]
  },
  {
   "cell_type": "code",
   "execution_count": 8,
   "metadata": {},
   "outputs": [
    {
     "name": "stdout",
     "output_type": "stream",
     "text": [
      "<class 'int'>\n"
     ]
    }
   ],
   "source": [
    "print(type(quant_dias.days))"
   ]
  },
  {
   "cell_type": "markdown",
   "metadata": {},
   "source": [
    "## Data e hora em diferentes fusos horários\n",
    "\n",
    "Uma empresa tem escritórios em São Paulo, Nova York e Tóquio. Crie um script Python que mostra a data e hora atuais nesses três fusos horários. Exiba, também, se estes escritórios estão abertos ou fechados (9h às 17h).\n"
   ]
  },
  {
   "cell_type": "code",
   "execution_count": 12,
   "metadata": {},
   "outputs": [
    {
     "name": "stdout",
     "output_type": "stream",
     "text": [
      "Escritorio São Paulo 2025-09-02 21:03:50.696487-03:00 está fechado\n",
      "Escritorio Nova York 2025-09-02 20:03:50.696487-04:00 está fechado\n",
      "Escritorio Toquio 2025-09-03 09:03:50.696487+09:00 está aberto\n"
     ]
    }
   ],
   "source": [
    "from datetime import datetime\n",
    "from zoneinfo import ZoneInfo\n",
    "\n",
    "data_hora_atual = datetime.now()\n",
    "\n",
    "fuso_horario_sao_paulo = ZoneInfo('America/Sao_Paulo')\n",
    "fuso_horario_new_york = ZoneInfo('America/New_York')\n",
    "fuso_horario_toquio = ZoneInfo('Asia/Tokyo')\n",
    "\n",
    "data_hora_sao_paulo = data_hora_atual.astimezone(fuso_horario_sao_paulo)\n",
    "data_hora_new_york = data_hora_atual.astimezone(fuso_horario_new_york)\n",
    "data_hora_sao_toquio = data_hora_atual.astimezone(fuso_horario_toquio)\n",
    "\n",
    "def aberto_fechado(data_hora):\n",
    "    if 9 <= data_hora.hour < 17:\n",
    "        return \"aberto\"\n",
    "    else:\n",
    "        return \"fechado\"\n",
    "\n",
    "print(f'Escritorio São Paulo {data_hora_sao_paulo} está {aberto_fechado(data_hora_sao_paulo)}')\n",
    "print(f'Escritorio Nova York {data_hora_new_york} está {aberto_fechado(data_hora_new_york)}')\n",
    "print(f'Escritorio Toquio {data_hora_sao_toquio} está {aberto_fechado(data_hora_sao_toquio)}')"
   ]
  }
 ],
 "metadata": {
  "kernelspec": {
   "display_name": "Python 3",
   "language": "python",
   "name": "python3"
  },
  "language_info": {
   "codemirror_mode": {
    "name": "ipython",
    "version": 3
   },
   "file_extension": ".py",
   "mimetype": "text/x-python",
   "name": "python",
   "nbconvert_exporter": "python",
   "pygments_lexer": "ipython3",
   "version": "3.12.1"
  }
 },
 "nbformat": 4,
 "nbformat_minor": 4
}
