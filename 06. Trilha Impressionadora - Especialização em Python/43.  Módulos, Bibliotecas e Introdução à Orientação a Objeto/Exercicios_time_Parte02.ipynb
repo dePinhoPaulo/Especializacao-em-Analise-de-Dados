{
 "cells": [
  {
   "cell_type": "markdown",
   "metadata": {},
   "source": [
    "## Tempo até o próximo ano\n",
    "\n",
    "Crie um script Python que calcula quantos dias, horas, minutos e segundos faltam até o próximo Ano Novo.\n",
    "\n"
   ]
  },
  {
   "cell_type": "markdown",
   "metadata": {
    "tags": []
   },
   "source": [
    "Lembrar da tupla de struct_time: https://docs.python.org/3/library/time.html#time.struct_time"
   ]
  },
  {
   "cell_type": "code",
   "execution_count": 24,
   "metadata": {
    "tags": []
   },
   "outputs": [
    {
     "name": "stdout",
     "output_type": "stream",
     "text": [
      "Segundos em um minuto: 60 s\n",
      "Segundos em uma hora: 3600 s\n",
      "Segundos em um dia: 86400 s\n"
     ]
    }
   ],
   "source": [
    "# lembrando\n",
    "\n",
    "segundos_por_minuto = 60\n",
    "segundos_por_hora = 60 * 60\n",
    "segundos_por_dia = 24 * 60 * 60\n",
    "\n",
    "print(f\"Segundos em um minuto: {segundos_por_minuto} s\")\n",
    "print(f\"Segundos em uma hora: {segundos_por_hora} s\")\n",
    "print(f\"Segundos em um dia: {segundos_por_dia} s\")"
   ]
  },
  {
   "cell_type": "markdown",
   "metadata": {
    "tags": []
   },
   "source": [
    "Lembrando de divisão:\n",
    "\n",
    "![divisao](https://escolaeducacao.com.br/wp-content/uploads/2020/01/algoritmo-divisao.png)"
   ]
  },
  {
   "cell_type": "code",
   "execution_count": 109,
   "metadata": {},
   "outputs": [
    {
     "name": "stdout",
     "output_type": "stream",
     "text": [
      "time.struct_time(tm_year=2025, tm_mon=8, tm_mday=29, tm_hour=20, tm_min=14, tm_sec=2, tm_wday=4, tm_yday=241, tm_isdst=0)\n",
      "time.struct_time(tm_year=2026, tm_mon=1, tm_mday=1, tm_hour=0, tm_min=0, tm_sec=0, tm_wday=3, tm_yday=1, tm_isdst=-1)\n",
      "Dias restante:  124\n",
      "Horas restante:  3\n",
      "Minutos restante:  45\n",
      "Segundos restante:  58\n"
     ]
    }
   ],
   "source": [
    "import time\n",
    "\n",
    "struct_agora = time.localtime()\n",
    "print(struct_agora)\n",
    "\n",
    "virada = \"01/01/2026\"\n",
    "formato = \"%d/%m/%Y\"\n",
    "struct_virada = time.strptime(virada, formato)\n",
    "print(struct_virada)\n",
    "\n",
    "segundos_restantes = int(time.mktime(struct_virada) - time.mktime(struct_agora))\n",
    "\n",
    "dias, resto_segundos = divmod(segundos_restantes, segundos_por_dia)\n",
    "horas, resto_segundos = divmod(resto_segundos, segundos_por_hora)\n",
    "minutos, segundos = divmod(resto_segundos, segundos_por_minuto)\n",
    "\n",
    "print('Dias restante: ', dias)\n",
    "print('Horas restante: ', horas)\n",
    "print('Minutos restante: ', minutos)\n",
    "print('Segundos restante: ', segundos)"
   ]
  },
  {
   "cell_type": "code",
   "execution_count": null,
   "metadata": {},
   "outputs": [],
   "source": []
  }
 ],
 "metadata": {
  "kernelspec": {
   "display_name": "Python 3",
   "language": "python",
   "name": "python3"
  },
  "language_info": {
   "codemirror_mode": {
    "name": "ipython",
    "version": 3
   },
   "file_extension": ".py",
   "mimetype": "text/x-python",
   "name": "python",
   "nbconvert_exporter": "python",
   "pygments_lexer": "ipython3",
   "version": "3.12.1"
  }
 },
 "nbformat": 4,
 "nbformat_minor": 4
}
