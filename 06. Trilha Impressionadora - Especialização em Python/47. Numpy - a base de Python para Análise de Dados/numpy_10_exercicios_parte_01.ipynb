{
 "cells": [
  {
   "cell_type": "markdown",
   "metadata": {},
   "source": [
    "## Exercício\n",
    "\n",
    "Você é um gerente de vendas e tem os dados de vendas de três produtos diferentes (Produto A, Produto B, Produto C) para os últimos 5 dias em um array 2D NumPy. Cada linha do array representa um produto e cada coluna representa um dia. Seu trabalho é calcular as vendas totais para cada produto e para cada dia.\n",
    "\n",
    "Use o seguinte array para sua análise:\n",
    "\n",
    "```python\n",
    "vendas = np.array([[50, 60, 70, 65, 80],\n",
    "                   [85, 90, 78, 92, 88],\n",
    "                   [72, 75, 68, 77, 76]])\n",
    "```\n",
    "\n",
    "**Solução:**\n"
   ]
  },
  {
   "cell_type": "code",
   "execution_count": null,
   "metadata": {
    "ExecuteTime": {
     "end_time": "2023-07-03T12:12:12.700234800Z",
     "start_time": "2023-07-03T12:12:12.677347900Z"
    },
    "collapsed": false,
    "jupyter": {
     "outputs_hidden": false
    }
   },
   "outputs": [
    {
     "name": "stdout",
     "output_type": "stream",
     "text": [
      "[325 433 368]\n"
     ]
    }
   ],
   "source": [
    "import numpy as np\n",
    "\n",
    "vendas = np.array([[50, 60, 70, 65, 80],\n",
    "                   [85, 90, 78, 92, 88],\n",
    "                   [72, 75, 68, 77, 76]])"
   ]
  },
  {
   "cell_type": "code",
   "execution_count": null,
   "metadata": {},
   "outputs": [
    {
     "name": "stdout",
     "output_type": "stream",
     "text": [
      "[325 433 368]\n",
      "vendas do produto A 325\n",
      "vendas do produto B 433\n",
      "vendas do produto C 368\n"
     ]
    }
   ],
   "source": [
    "vendas_produtos = vendas.sum(axis=1)\n",
    "print(vendas_produtos)\n",
    "\n",
    "print(f\"vendas do produto A: {vendas_produtos[0]}\")\n",
    "print(f\"vendas do produto B: {vendas_produtos[1]}\")\n",
    "print(f\"vendas do produto C: {vendas_produtos[2]}\")"
   ]
  },
  {
   "cell_type": "code",
   "execution_count": null,
   "metadata": {},
   "outputs": [
    {
     "name": "stdout",
     "output_type": "stream",
     "text": [
      "[207 225 216 234 244]\n",
      "vendas do dia 1 207\n",
      "vendas do dia 2 225\n",
      "vendas do dia 3 216\n",
      "vendas do dia 4 234\n",
      "vendas do dia 5 244\n"
     ]
    }
   ],
   "source": [
    "vendas_dia = vendas.sum(axis=0)\n",
    "print(vendas_dia)\n",
    "\n",
    "print(f\"vendas do dia 1: {vendas_dia[0]}\")\n",
    "print(f\"vendas do dia 2: {vendas_dia[1]}\")\n",
    "print(f\"vendas do dia 3: {vendas_dia[2]}\")\n",
    "print(f\"vendas do dia 4: {vendas_dia[3]}\")\n",
    "print(f\"vendas do dia 5: {vendas_dia[4]}\")\n"
   ]
  },
  {
   "cell_type": "code",
   "execution_count": 15,
   "metadata": {},
   "outputs": [
    {
     "name": "stdout",
     "output_type": "stream",
     "text": [
      "Vendas do dia 1: 207\n",
      "Vendas do dia 2: 225\n",
      "Vendas do dia 3: 216\n",
      "Vendas do dia 4: 234\n",
      "Vendas do dia 5: 244\n"
     ]
    }
   ],
   "source": [
    "dia = 0\n",
    "\n",
    "for venda in vendas_dia:\n",
    "    dia += 1\n",
    "    print(f\"Vendas do dia {dia}: {venda}\")"
   ]
  }
 ],
 "metadata": {
  "kernelspec": {
   "display_name": "Python 3",
   "language": "python",
   "name": "python3"
  },
  "language_info": {
   "codemirror_mode": {
    "name": "ipython",
    "version": 3
   },
   "file_extension": ".py",
   "mimetype": "text/x-python",
   "name": "python",
   "nbconvert_exporter": "python",
   "pygments_lexer": "ipython3",
   "version": "3.12.1"
  }
 },
 "nbformat": 4,
 "nbformat_minor": 4
}
