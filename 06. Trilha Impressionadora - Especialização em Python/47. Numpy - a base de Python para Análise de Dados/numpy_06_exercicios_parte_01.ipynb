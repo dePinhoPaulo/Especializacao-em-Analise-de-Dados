{
 "cells": [
  {
   "cell_type": "markdown",
   "metadata": {},
   "source": [
    "## Exercício\n",
    "\n",
    "Você é um analista de RH e tem os salários de todos os funcionários da sua empresa em um array NumPy. Seu trabalho é identificar quantos funcionários ganham acima da média. Use o seguinte array para sua análise: `salarios = np.array([3000, 2500, 3500, 4000, 2000, 4500, 3000, 3800, 4800])`."
   ]
  },
  {
   "cell_type": "code",
   "execution_count": 1,
   "metadata": {
    "ExecuteTime": {
     "end_time": "2023-07-03T17:58:55.261401600Z",
     "start_time": "2023-07-03T17:58:55.249755Z"
    },
    "collapsed": false,
    "jupyter": {
     "outputs_hidden": false
    }
   },
   "outputs": [],
   "source": [
    "import numpy as np\n",
    "\n",
    "salarios = np.array([3000, 2500, 3500, 4000, 2000, 4500, 3000, 3800, 4800])\n"
   ]
  },
  {
   "cell_type": "code",
   "execution_count": 11,
   "metadata": {},
   "outputs": [
    {
     "name": "stdout",
     "output_type": "stream",
     "text": [
      "(array([2, 3, 5, 7, 8]),)\n",
      "[3500 4000 4500 3800 4800]\n",
      "5\n",
      "5\n"
     ]
    }
   ],
   "source": [
    "media_salario = np.mean(salarios)\n",
    "salario_acima = np.where(salarios > media_salario)\n",
    "\n",
    "print(salario_acima)\n",
    "print(salarios[salario_acima])\n",
    "\n",
    "qtd_acima = np.count_nonzero(salario_acima)\n",
    "print(qtd_acima)\n",
    "#Ou\n",
    "qtd_acima2 = sum(salarios > media_salario)\n",
    "print(qtd_acima2)\n",
    "\n",
    "\n"
   ]
  },
  {
   "cell_type": "code",
   "execution_count": 15,
   "metadata": {},
   "outputs": [
    {
     "name": "stdout",
     "output_type": "stream",
     "text": [
      "[2100 3943 3182 3796 2738 2360 3697 2318 2336 3830]\n",
      "2100\n",
      "3943\n",
      "3030.0\n"
     ]
    }
   ],
   "source": [
    "rng = np.random.default_rng(seed=23)\n",
    "\n",
    "salarios_gerados = rng.integers(low=min(salarios), high=max(salarios), size=10, endpoint=True)\n",
    "print(salarios_gerados)\n",
    "\n",
    "print(salarios_gerados.min())\n",
    "print(salarios_gerados.max())\n",
    "print(salarios_gerados.mean())"
   ]
  }
 ],
 "metadata": {
  "kernelspec": {
   "display_name": "Python 3",
   "language": "python",
   "name": "python3"
  },
  "language_info": {
   "codemirror_mode": {
    "name": "ipython",
    "version": 3
   },
   "file_extension": ".py",
   "mimetype": "text/x-python",
   "name": "python",
   "nbconvert_exporter": "python",
   "pygments_lexer": "ipython3",
   "version": "3.12.1"
  }
 },
 "nbformat": 4,
 "nbformat_minor": 4
}
