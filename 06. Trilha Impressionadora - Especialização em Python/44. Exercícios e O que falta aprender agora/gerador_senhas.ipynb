{
 "cells": [
  {
   "cell_type": "markdown",
   "id": "74b1c214-34d8-43a1-867b-1055887eca93",
   "metadata": {},
   "source": [
    "Escreva um programa que gere uma senha aleatória com um determinado comprimento. A senha deve conter uma mistura de letras, números e caracteres especiais. O comprimento da senha deve ser fornecido pelo usuário. Se o comprimento for menor que 4, imprima uma mensagem de erro e peça ao usuário para fornecer um novo comprimento.\n",
    "\n",
    "A senha deve ser aleatória, então cada vez que o usuário executar o programa, uma nova senha deve ser gerada. Obrigatoriamente, a senha deve conter pelo menos uma letra, um número e um caractere especial. A senha não pode conter espaços em branco.\n",
    "\n",
    "O programa deve conter uma função chamada `gerar_senha` que recebe o comprimento da senha como parâmetro e retorna a senha gerada. Se o comprimento for inválido, a função deve retornar None.\n",
    "\n",
    "Exemplo de saída:\n",
    "\n",
    "```\n",
    "Digite o comprimento da senha: 10\n",
    "8Zn$*2q9X\n",
    "```\n",
    "\n",
    "- Dica: use a biblioteca random e a função shuffle para embaralhar os caracteres da senha.\n",
    "- Dica: use a função choice, dessa mesma biblioteca, para escolher um caractere aleatório de uma string.\n",
    "- Dica: use a biblioteca string para obter uma lista de caracteres válidos para a senha."
   ]
  },
  {
   "cell_type": "code",
   "execution_count": 9,
   "id": "b067e142",
   "metadata": {},
   "outputs": [
    {
     "name": "stdout",
     "output_type": "stream",
     "text": [
      "abcdefghijklmnopqrstuvwxyzABCDEFGHIJKLMNOPQRSTUVWXYZ\n",
      "0123456789\n",
      "!\"#$%&'()*+,-./:;<=>?@[\\]^_`{|}~\n",
      "['9', '7', '7', '8', '1']\n",
      "['8', '9', '7', '7', '1']\n"
     ]
    }
   ],
   "source": [
    "import string\n",
    "import random\n",
    "\n",
    "\n",
    "print(string.ascii_letters)\n",
    "print(string.digits)\n",
    "print(string.punctuation)\n",
    "\n",
    "random.choice(string.digits)\n",
    "\n",
    "escolhas = random.choices(string.digits, k=5)\n",
    "print(escolhas)\n",
    "\n",
    "random.shuffle(escolhas)\n",
    "print(escolhas)\n",
    "\n"
   ]
  },
  {
   "cell_type": "code",
   "execution_count": 19,
   "id": "95a6c8e9",
   "metadata": {},
   "outputs": [
    {
     "name": "stdout",
     "output_type": "stream",
     "text": [
      "D=23ju%'T<\n"
     ]
    }
   ],
   "source": [
    "def gerar_senha(tamanho):\n",
    "    if tamanho < 4:\n",
    "        print('O tamanho da senha deve ser maior que 4!')\n",
    "    else:\n",
    "        senha = [\n",
    "            random.choice(string.ascii_letters),\n",
    "            random.choice(string.digits),\n",
    "            random.choice(string.punctuation)\n",
    "        ]\n",
    "\n",
    "        possibilidades = \"\".join([string.ascii_letters, string.digits, string.punctuation])\n",
    "        senha.extend(random.choices(possibilidades, k=tamanho-3))\n",
    "        \n",
    "        random.shuffle(senha)\n",
    "\n",
    "        return \"\".join(senha) #Junta lista de string sem nada no meio\n",
    "\n",
    "tamanho = int(input('Digite o tamanho da senha: '))\n",
    "print(gerar_senha(tamanho))"
   ]
  },
  {
   "cell_type": "code",
   "execution_count": null,
   "id": "0f00f835",
   "metadata": {},
   "outputs": [],
   "source": []
  }
 ],
 "metadata": {
  "kernelspec": {
   "display_name": "Python 3",
   "language": "python",
   "name": "python3"
  },
  "language_info": {
   "codemirror_mode": {
    "name": "ipython",
    "version": 3
   },
   "file_extension": ".py",
   "mimetype": "text/x-python",
   "name": "python",
   "nbconvert_exporter": "python",
   "pygments_lexer": "ipython3",
   "version": "3.12.1"
  }
 },
 "nbformat": 4,
 "nbformat_minor": 5
}
